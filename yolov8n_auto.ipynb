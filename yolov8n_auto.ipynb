{
 "cells": [
  {
   "cell_type": "code",
   "execution_count": null,
   "metadata": {},
   "outputs": [],
   "source": [
    "import os\n",
    "\n",
    "def is_float(value):\n",
    "    try:\n",
    "        float(value)\n",
    "        return True\n",
    "    except ValueError:\n",
    "        return False\n",
    "\n",
    "def is_yolo_format(line):           # Checking labels, whether they are in YOLO format\n",
    "    parts = line.strip().split()\n",
    "    if len(parts) != 5:\n",
    "        return False\n",
    "    if not all(is_float(part) for part in parts[1:]):\n",
    "        return False\n",
    "    return True\n",
    "def check_yolo_format(label_dir):\n",
    "    for filename in os.listdir(label_dir):\n",
    "        if filename.endswith(\".txt\"):\n",
    "            with open(os.path.join(label_dir, filename), 'r') as file:\n",
    "                lines = file.readlines()\n",
    "                for line in lines:\n",
    "                    if not is_yolo_format(line):\n",
    "                        print(f\"Invalid YOLO format in {filename}: {line.strip()}\")\n",
    "\n",
    "label_directory = 'data/labels'\n",
    "check_yolo_format(label_directory)\n"
   ]
  },
  {
   "cell_type": "code",
   "execution_count": null,
   "metadata": {},
   "outputs": [],
   "source": [
    "from ultralytics import YOLO\n",
    "\n",
    "model = YOLO(\"yolov8n.yaml\").load(\"yolov8n.pt\")  # Build from YAML and transfer weights\n",
    "\n",
    "\n",
    "# Tune hyperparameters (optionally)\n",
    "# model.tune(data=\"data.yaml\", epochs=5, iterations=20, optimizer=\"AdamW\", plots=False, save=False, val=False)"
   ]
  },
  {
   "cell_type": "code",
   "execution_count": null,
   "metadata": {},
   "outputs": [],
   "source": [
    "results = model.train(\n",
    "    data='data.yaml',\n",
    "   imgsz=1280,  \n",
    "   epochs=100,\n",
    "   batch=4,\n",
    "   patience=7,\n",
    "   amp=True,   \n",
    "   optimizer='Adam',  # Adam optimizer\n",
    "    lr0=0.001,\n",
    "    momentum=0.9,\n",
    "   val=True,\n",
    "   resume=True, \n",
    "   name='yolov8n_trained',\n",
    "   augment= True,       # Enable data aug while training\n",
    "   hsv_h= 0.001,\n",
    "   hsv_v= 0.1,   # Brightness augmentation\n",
    "   hsv_s= 0.1,   # Saturation aug, for different environmental conditions\n",
    "   shear= 0.01,   # For mimicking the effect of objects being viewed from different angles\n",
    "   degrees= 15,\n",
    "   crop_fraction= 0.2\n",
    "   )"
   ]
  },
  {
   "cell_type": "code",
   "execution_count": null,
   "metadata": {},
   "outputs": [],
   "source": [
    "\n",
    "model = YOLO('runs/detect/yolov8n_trained/weights/best.pt')     # Load the trained model\n",
    "results = model.val(data='data.yaml', batch=4, imgsz=1280, split='test')    # Evaluate the model on the test set\n",
    "\n",
    "print(results)"
   ]
  },
  {
   "cell_type": "code",
   "execution_count": null,
   "metadata": {},
   "outputs": [],
   "source": [
    "import os\n",
    "from ultralytics import YOLO\n",
    "\n",
    "trained_model = YOLO(\"runs/detect/yolov8n_trained/weights/best.pt\")\n",
    "\n",
    "image_dir = r\"Your\\image\\directory\"      # Select the directory which the model make predictions on\n",
    "output_dir = r\"Your\\output\\directory\"    # Select the directory which the model create the txt outputs to\n",
    "\n",
    "os.makedirs(output_dir, exist_ok=True)\n",
    "\n",
    "for image_name in os.listdir(image_dir):\n",
    "    if image_name.endswith(('.jpg', '.jpeg', '.png', '.bmp')):  # Only image files\n",
    "        image_path = os.path.join(image_dir, image_name)\n",
    "        \n",
    "        results = trained_model.predict(image_path, conf=0.25, iou=0.45)    # Apply NMS     \n",
    "\n",
    "        for result in results:\n",
    "            # Check if any detections were made\n",
    "            if result.boxes.shape[0] > 0:  \n",
    "                label_path = os.path.join(output_dir, os.path.splitext(image_name)[0] + '.txt')\n",
    "                with open(label_path, 'w') as f:\n",
    "                    for box in result.boxes:\n",
    "                        try:\n",
    "                            # Extract coordinates and class ID\n",
    "                            class_id = int(box.cls.item())  \n",
    "                            x_center, y_center, width, height = box.xywh[0].tolist()\n",
    "                            \n",
    "                            # Normalize coordinates\n",
    "                            img_width, img_height = result.orig_shape[1], result.orig_shape[0] \n",
    "                            x_center_norm = x_center / img_width\n",
    "                            y_center_norm = y_center / img_height\n",
    "                            width_norm = width / img_width\n",
    "                            height_norm = height / img_height\n",
    "\n",
    "                            # Write to file in YOLO format\n",
    "                            f.write(f\"{class_id} {x_center_norm} {y_center_norm} {width_norm} {height_norm}\\n\")\n",
    "                        except Exception as e:\n",
    "                            print(f\"Error processing box: {e}\")\n",
    "            else:\n",
    "                print(f\"No detections found for {image_name}, skipping file creation.\")\n"
   ]
  }
 ],
 "metadata": {
  "kernelspec": {
   "display_name": "Python 3",
   "language": "python",
   "name": "python3"
  },
  "language_info": {
   "codemirror_mode": {
    "name": "ipython",
    "version": 3
   },
   "file_extension": ".py",
   "mimetype": "text/x-python",
   "name": "python",
   "nbconvert_exporter": "python",
   "pygments_lexer": "ipython3",
   "version": "3.12.1"
  }
 },
 "nbformat": 4,
 "nbformat_minor": 2
}
